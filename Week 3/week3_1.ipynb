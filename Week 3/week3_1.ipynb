{
 "cells": [
  {
   "attachments": {},
   "cell_type": "markdown",
   "metadata": {
    "pycharm": {
     "name": "#%% md\n"
    }
   },
   "source": [
    "# Computational Methods in Simulation (CMIS) Week 3\n",
    "This notebook is intended to help students make their hand-in in this week of CMIS.\n",
    "\n",
    "\n",
    "Hand-ins must be submitted as a maximum 3 page pdf file in Absalon and must be made using the ACM TOG overleaf latex template\n",
    "\n",
    "https://www.overleaf.com/latex/templates/association-for-computing-machinery-acm-large-2-column-format-template/qwcgpbmkkvpq\n",
    "\n",
    "Notebooks must be uploaded as well so teachers have code solutions accessible if needed."
   ]
  },
  {
   "attachments": {},
   "cell_type": "markdown",
   "metadata": {
    "pycharm": {
     "name": "#%% md\n"
    }
   },
   "source": [
    "This week is based on Slides 6 - follow the detailed steps below to learn about mesh representations as well as meash quality measures:\n",
    "\n",
    "* Explain how a mesh is represented and create a function that can generate a 2D traingle mesh for a beam (large rectangle) shape\n",
    "* Apply a third-party meshing tool such as tetgen, wildmeshing or similar to a simple 2D case.\n",
    "* Apply a 3D meshing tool such as TetGen or wildmeshing or similar to a 3D surface mesh such as 'armadillo.obj'\n",
    "* Identify two or more quality measures from the Shewchuck paper that you believe will be good measures for a linear tetrahedral mesh. Explain pros and cons of your choosen measures (Hint: We provide functions for computing inscribed/circumscriped spheres as well as signed volume).\n",
    "* Implement the chosen quality measures and create a tool for plotting quality historgrams.\n",
    "* Compute your chosen quality measures for the 3D volume mesh you generate and display histograms of them. Discuss the histograms, what do they tell you about the mesh you generated?\n",
    "* Implement the marching triangle method (as described in Slides 6) and identify \"bad\" or \"wrong\" triangles created by the method. Discuss the cause of these cases and if time permit develop an improved version of the method (Hint: reuse your signed distance field code from Week 2).  \n"
   ]
  },
  {
   "attachments": {},
   "cell_type": "markdown",
   "metadata": {
    "pycharm": {
     "name": "#%% md\n"
    }
   },
   "source": [
    "## Detailed Expected Learning Objectives in The Hand-in of this Week\n",
    "\n",
    "* Computational Meshing (Slides 6)\n",
    "    * Explain common mesh quality measures.\n",
    "    * Implement a simple computational mesh generator.\n",
    "    * Generate computational quality meshes using 3rd party software such as DistMesh, TetGen or similar.\n",
    "    * Experimentally evaluate whether a given computational mesh is a quality mesh."
   ]
  },
  {
   "attachments": {},
   "cell_type": "markdown",
   "metadata": {
    "pycharm": {
     "name": "#%% md\n"
    }
   },
   "source": [
    "## Mesh Representations\n",
    "\n",
    "In this work we use the face-indexed array representation for storing a unstructured mesh. That is a triangle mesh. One may find a short description of mesh descriptions from the libigl library\n",
    "\n",
    "https://libigl.github.io/libigl-python-bindings/tutorials/\n",
    "\n",
    "For our 3D meshing examples we may make use of the wildmeshing library for both 3D and 2D meshing\n",
    "\n",
    "https://wildmeshing.github.io/wildmeshing-notebook/\n",
    "\n",
    "Further, We provide two of our own primitive 2D meshing methods."
   ]
  },
  {
   "cell_type": "code",
   "execution_count": 6,
   "metadata": {
    "pycharm": {
     "name": "#%%\n"
    }
   },
   "outputs": [],
   "source": [
    "%matplotlib widget"
   ]
  },
  {
   "cell_type": "code",
   "execution_count": 7,
   "metadata": {
    "pycharm": {
     "name": "#%%\n"
    }
   },
   "outputs": [],
   "source": [
    "import numpy as np\n",
    "import matplotlib.pyplot as plt"
   ]
  },
  {
   "attachments": {},
   "cell_type": "markdown",
   "metadata": {
    "pycharm": {
     "name": "#%% md\n"
    }
   },
   "source": [
    "For starters we will show an example of how to directly generate a beam mesh.\n",
    "\n",
    "The idea is to make the beam on a regular back ground grid. In a first sweep over grid nodes we create the vertices of the beam mesh. In a second sweep over the cells of the regular grid we will create triangles. \n",
    "\n",
    "To avoid having any bias from mesh connectivity we choose to flip the diagonals of the grid cells. This way we get a very homogenous looking triangle mesh with similar shaped triangles that are close to being equilateral."
   ]
  },
  {
   "cell_type": "code",
   "execution_count": 8,
   "metadata": {
    "pycharm": {
     "name": "#%%\n"
    }
   },
   "outputs": [
    {
     "ename": "NameError",
     "evalue": "name 'mp' is not defined",
     "output_type": "error",
     "traceback": [
      "\u001b[0;31m---------------------------------------------------------------------------\u001b[0m",
      "\u001b[0;31mNameError\u001b[0m                                 Traceback (most recent call last)",
      "\u001b[0;32m/tmp/ipykernel_126584/2312311292.py\u001b[0m in \u001b[0;36m<module>\u001b[0;34m\u001b[0m\n\u001b[1;32m     30\u001b[0m \u001b[0mV\u001b[0m\u001b[0;34m,\u001b[0m \u001b[0mT\u001b[0m \u001b[0;34m=\u001b[0m \u001b[0mmake_beam_mesh\u001b[0m\u001b[0;34m(\u001b[0m\u001b[0;36m2.0\u001b[0m\u001b[0;34m,\u001b[0m\u001b[0;36m1.0\u001b[0m\u001b[0;34m,\u001b[0m\u001b[0;34m(\u001b[0m\u001b[0;36m12\u001b[0m\u001b[0;34m,\u001b[0m\u001b[0;36m6\u001b[0m\u001b[0;34m)\u001b[0m\u001b[0;34m)\u001b[0m\u001b[0;34m\u001b[0m\u001b[0;34m\u001b[0m\u001b[0m\n\u001b[1;32m     31\u001b[0m \u001b[0;34m\u001b[0m\u001b[0m\n\u001b[0;32m---> 32\u001b[0;31m \u001b[0mp\u001b[0m \u001b[0;34m=\u001b[0m \u001b[0mmp\u001b[0m\u001b[0;34m.\u001b[0m\u001b[0mplot\u001b[0m\u001b[0;34m(\u001b[0m\u001b[0mV\u001b[0m\u001b[0;34m,\u001b[0m \u001b[0mT\u001b[0m\u001b[0;34m,\u001b[0m \u001b[0mreturn_plot\u001b[0m\u001b[0;34m=\u001b[0m\u001b[0;32mTrue\u001b[0m\u001b[0;34m,\u001b[0m \u001b[0mshading\u001b[0m\u001b[0;34m=\u001b[0m\u001b[0;34m{\u001b[0m\u001b[0;34m\"wireframe\"\u001b[0m\u001b[0;34m:\u001b[0m \u001b[0;32mTrue\u001b[0m\u001b[0;34m}\u001b[0m\u001b[0;34m)\u001b[0m\u001b[0;34m\u001b[0m\u001b[0;34m\u001b[0m\u001b[0m\n\u001b[0m",
      "\u001b[0;31mNameError\u001b[0m: name 'mp' is not defined"
     ]
    }
   ],
   "source": [
    "def make_beam_mesh(width, height, shape):\n",
    "    x0 = -width/2.0\n",
    "    y0 = -height/2.0\n",
    "    I  = shape[0]\n",
    "    J  = shape[1]\n",
    "    dx = width/float(I)\n",
    "    dy = height/float(J)\n",
    "    V = np.zeros(((I+1)*(J+1),2),dtype=np.float64)\n",
    "    for j in range(J+1):\n",
    "        for i in range(I+1):\n",
    "            k = i + j*(I+1)\n",
    "            V[k,0] = x0 + i*dx\n",
    "            V[k,1] = y0 + j*dy\n",
    "    T = np.zeros((2*I*J,3),dtype=np.int32)\n",
    "    for j in range(J):\n",
    "        for i in range(I):\n",
    "            k00 = (i  ) + (j  )*(I+1)\n",
    "            k01 = (i+1) + (j  )*(I+1)\n",
    "            k10 = (i  ) + (j+1)*(I+1)\n",
    "            k11 = (i+1) + (j+1)*(I+1)\n",
    "            e = 2*(i + j*I)\n",
    "            if (i+j)%2:\n",
    "                T[e,  :] = (k00,k01,k11)\n",
    "                T[e+1,:] = (k00,k11,k10)\n",
    "            else:\n",
    "                T[e,  :] = (k10,k00,k01)\n",
    "                T[e+1,:] = (k10,k01,k11)                    \n",
    "    return V, T\n",
    "\n",
    "V, T = make_beam_mesh(2.0,1.0,(12,6))\n",
    "\n",
    "p = mp.plot(V, T, return_plot=True, shading={\"wireframe\": True})"
   ]
  },
  {
   "attachments": {},
   "cell_type": "markdown",
   "metadata": {
    "pycharm": {
     "name": "#%% md\n"
    }
   },
   "source": [
    "Next we will show an example using the wildmeshing library to generate a triangle mesh from a polygon boundary. "
   ]
  },
  {
   "cell_type": "code",
   "execution_count": null,
   "metadata": {
    "pycharm": {
     "name": "#%%\n"
    }
   },
   "outputs": [
    {
     "name": "stdout",
     "output_type": "stream",
     "text": [
      "Loading and preprocessing ...\n",
      "remove duplicates:\n",
      "#v 36->36\n",
      "#e 36->36\n",
      "simplify:\n",
      "#v 36->36\n",
      "#e 36->36\n",
      "Loaded and preprocessed.\n",
      "time = 0.000387s\n",
      "\n",
      "BSP subdivision...\n",
      "#v 136->136\n",
      "#f 234->234\n",
      "BSP subdivision done.\n",
      "time = 0.001237s\n",
      "\n",
      "Mesh optimization...\n",
      "#v = 136(136)    unrounded = 0\n",
      "#t = 234(234)\n",
      "max_energy = 5.3028\n",
      "avg_energy = 2.59881\n",
      "min_angle = 13.5646, max_angle = 136.836\n",
      "< 5: 0, < 10: 0, < 15: 0.0213675\n",
      "> 175: 0, > 170: 0, > 165: 0\n",
      "\n",
      "//////////////// preprocessing ////////////////\n",
      "edge collapsing...\n",
      "queue_s.size() = 652\n",
      "success 16\n",
      "re-push 24\n",
      "queue_s.size() = 34\n",
      "success 0\n",
      "re-push 0\n",
      "edge collapsing done!\n",
      "time = 0.000655s\n",
      "#v = 120(136)    unrounded = 0\n",
      "#t = 202(234)\n",
      "max_energy = 2.90356\n",
      "avg_energy = 2.37576\n",
      "min_angle = 26.6985, max_angle = 104.208\n",
      "< 5: 0, < 10: 0, < 15: 0\n",
      "> 175: 0, > 170: 0, > 165: 0\n",
      "\n",
      "//////////////// postprocessing ////////////////\n",
      "edge collapsing...\n",
      "queue_s.size() = 16\n",
      "success 0\n",
      "re-push 0\n",
      "edge collapsing done!\n",
      "time = 7.6e-05s\n",
      "#v = 120(136)    unrounded = 0\n",
      "#t = 202(234)\n",
      "max_energy = 2.90356\n",
      "avg_energy = 2.37576\n",
      "min_angle = 26.6985, max_angle = 104.208\n",
      "< 5: 0, < 10: 0, < 15: 0\n",
      "> 175: 0, > 170: 0, > 165: 0\n",
      "\n",
      "Mesh optimization done.\n",
      "time = 0.001872s\n"
     ]
    },
    {
     "data": {
      "application/vnd.jupyter.widget-view+json": {
       "model_id": "9b9e2649c23846ad8be25b5c273c3846",
       "version_major": 2,
       "version_minor": 0
      },
      "text/plain": [
       "Renderer(camera=PerspectiveCamera(children=(DirectionalLight(color='white', intensity=0.6, position=(0.0, 0.0,…"
      ]
     },
     "metadata": {},
     "output_type": "display_data"
    }
   ],
   "source": [
    "# Documentation is here https://wildmeshing.github.io/wildmeshing-notebook/\n",
    "def make_circle_mesh(radius, segments):\n",
    "    K = segments\n",
    "    X = np.array([ radius*np.cos(2*np.pi*k/K) for k in range(K)])\n",
    "    Y = np.array([ radius*np.sin(2*np.pi*k/K) for k in range(K)])\n",
    "    P = np.zeros((K,2))\n",
    "    P[:,0] = X\n",
    "    P[:,1] = Y\n",
    "    L = np.array([(k,(k+1)%K) for k in range(K)],dtype=np.int32)\n",
    "    V, T, _, _ = wm.triangulate_data(P, L, cut_outside=True)\n",
    "    return (V, T)\n",
    "\n",
    "V, T = make_circle_mesh(0.75, 36)\n",
    "\n",
    "p = mp.plot(V, T, return_plot=True, shading={\"wireframe\": True})"
   ]
  },
  {
   "attachments": {},
   "cell_type": "markdown",
   "metadata": {
    "pycharm": {
     "name": "#%% md\n"
    }
   },
   "source": [
    "# Quality Measures\n",
    "\n",
    "We have identified 4 quality measures for linear tetrahedral meshes. We implement simple functions that given one element can compute its quality measure.\n",
    "\n",
    "For computing quality measures it is helpful to be able to compute the signed volume of a tetrahedron, test if is left oriented, circumscribed and inscriped spheres."
   ]
  },
  {
   "cell_type": "code",
   "execution_count": null,
   "metadata": {
    "pycharm": {
     "name": "#%%\n"
    }
   },
   "outputs": [],
   "source": [
    "def compute_signed_volume(pi, pj, pk, pm):\n",
    "    return np.dot((pm - pi), np.cross((pj - pi), (pk - pi))) / 6.0\n",
    "\n",
    "\n",
    "def is_left_orientation(pi, pj, pk, pm):\n",
    "    return compute_signed_volume(pi, pj, pk, pm) < 0.0\n",
    "\n",
    "\n",
    "def compute_circumscribed_sphere(p0, p1, p2, p3):\n",
    "    A = p0 - p3\n",
    "    B = p1 - p3\n",
    "    C = p2 - p3\n",
    "\n",
    "    M00 = np.dot(A, A)\n",
    "    M01 = np.dot(A, B)\n",
    "    M02 = np.dot(A, C)\n",
    "    M10 = np.dot(B, A)\n",
    "    M11 = np.dot(B, B)\n",
    "    M12 = np.dot(B, C)\n",
    "    M20 = np.dot(C, A)\n",
    "    M21 = np.dot(C, B)\n",
    "    M22 = np.dot(C, C)\n",
    "\n",
    "    M = np.array([[M00, M01, M02], [M10, M11, M12], [M20, M21, M22]], dtype=np.float64)\n",
    "    q = 0.5 * np.array([M00, M11, M22], dtype=np.float64)\n",
    "    \n",
    "    u = np.linalg.lstsq(M, q, rcond=None)[0]\n",
    "\n",
    "    u0 = u[0]\n",
    "    u1 = u[1]\n",
    "    u2 = u[2]\n",
    "    u3 = 1.0 - u0 - u1 - u2\n",
    "\n",
    "    radius = np.linalg.norm(u0 * A + u1 * B + u2 * C)\n",
    "    center = u0 * p0 + u1 * p1 + u2 * p2 + u3 * p3\n",
    "\n",
    "    return center, radius\n",
    "\n",
    "\n",
    "def compute_inscribed_sphere(pi, pj, pk, pm):\n",
    "    nm = np.cross((pj - pi), (pk - pi))\n",
    "    ni = np.cross((pm - pj), (pk - pj))\n",
    "    nj = np.cross((pm - pk), (pi - pk))\n",
    "    nk = np.cross((pm - pi), (pj - pi))\n",
    "    Lnm = np.linalg.norm(nm)\n",
    "    Lni = np.linalg.norm(ni)\n",
    "    Lnj = np.linalg.norm(nj)\n",
    "    Lnk = np.linalg.norm(nk)\n",
    "    nm = nm / Lnm\n",
    "    ni = ni / Lni\n",
    "    nj = nj / Lnj\n",
    "    nk = nk / Lnk\n",
    "\n",
    "    wm = np.dot(nm, pi)\n",
    "    wi = np.dot(ni, pj)\n",
    "    wj = np.dot(nj, pk)\n",
    "    wk = np.dot(nk, pi)\n",
    "\n",
    "    M00 = nm[0]\n",
    "    M01 = nm[1]\n",
    "    M02 = nm[2]\n",
    "    M03 = -1.0\n",
    "\n",
    "    M10 = ni[0]\n",
    "    M11 = ni[1]\n",
    "    M12 = ni[2]\n",
    "    M13 = -1.0\n",
    "\n",
    "    M20 = nj[0]\n",
    "    M21 = nj[1]\n",
    "    M22 = nj[2]\n",
    "    M23 = -1.0\n",
    "\n",
    "    M30 = nk[0]\n",
    "    M31 = nk[1]\n",
    "    M32 = nk[2]\n",
    "    M33 = -1.0\n",
    "\n",
    "    A = np.array([[M00, M01, M02, M03], [M10, M11, M12, M13], [M20, M21, M22, M23], [M30, M31, M32, M33]],\n",
    "                 dtype=np.float64)\n",
    "    b = np.array([wm, wi, wj, wk], dtype=np.float64)\n",
    "\n",
    "    x = np.linalg.lstsq(A, b, rcond=None)[0]\n",
    "\n",
    "    center = np.array( [x[0], x[1], x[2]], dtype=np.float64)\n",
    "    radius = x[3]\n",
    "\n",
    "    return center, radius"
   ]
  },
  {
   "attachments": {},
   "cell_type": "markdown",
   "metadata": {
    "pycharm": {
     "name": "#%% md\n"
    }
   },
   "source": [
    "Now we may implement our quality measures using these basic geometry functions"
   ]
  },
  {
   "cell_type": "code",
   "execution_count": null,
   "metadata": {
    "pycharm": {
     "name": "#%%\n"
    }
   },
   "outputs": [
    {
     "ename": "SyntaxError",
     "evalue": "invalid syntax (4000218378.py, line 30)",
     "output_type": "error",
     "traceback": [
      "\u001b[0;36m  File \u001b[0;32m\"/tmp/ipykernel_124947/4000218378.py\"\u001b[0;36m, line \u001b[0;32m30\u001b[0m\n\u001b[0;31m    12*((3*compute_signed_volume(p0, p1, p2, p3))**(2/3))/\u001b[0m\n\u001b[0m                                                          ^\u001b[0m\n\u001b[0;31mSyntaxError\u001b[0m\u001b[0;31m:\u001b[0m invalid syntax\n"
     ]
    }
   ],
   "source": [
    "# TODO - identify two or more quality measures from the Shewchuck paper that you believe will be good \n",
    "# measures for a linear tetrahedral mesh and implement them below\n",
    "\n",
    "def compute_quality_1(points):\n",
    "    p0, p1, p2, p3 = points\n",
    "    \n",
    "    A = p0 - p3\n",
    "    B = p1 - p3\n",
    "    C = p2 - p3\n",
    "    D = p2 - p1\n",
    "    E = p1 - p0\n",
    "    F = p2 - p0\n",
    "    \n",
    "    edges = [A,B,C,D,E,F]\n",
    "    edge_lengths = [np.linalg.norm(A), np.linalg.norm(B), np.linalg.norm(C), np.linalg.norm(D), np.linalg.norm(E), np.linalg.norm(F)]\n",
    "    \n",
    "    return 2*np.sqrt(6)*(compute_inscribed_sphere(p0, p1, p2, p3)[1]/np.max(edge_lengths))\n",
    "    \n",
    "    \n",
    "    \n",
    "    \n",
    "\n",
    "def compute_quality_2(points):\n",
    "    p0, p1, p2, p3 = points\n",
    "    return 3*(compute_inscribed_sphere(p0, p1, p2, p3)[1]/compute_circumscribed_sphere(p0, p1, p2, p3)[1])\n",
    "    \n",
    "# these are optional    \n",
    "def compute_quality_3(points):\n",
    "    p0, p1, p2, p3 = points\n",
    "    12*((3*compute_signed_volume(p0, p1, p2, p3))**(2/3))/\n",
    "\n",
    "def compute_quality_4(points):\n",
    "   "
   ]
  },
  {
   "attachments": {},
   "cell_type": "markdown",
   "metadata": {
    "pycharm": {
     "name": "#%% md\n"
    }
   },
   "source": [
    "Finally we can create a function that iterates over all tetrahedra in a mesh, compute quality measures for each tetrahedron and make histograms of the measures"
   ]
  },
  {
   "cell_type": "code",
   "execution_count": null,
   "metadata": {
    "pycharm": {
     "name": "#%%\n"
    }
   },
   "outputs": [],
   "source": [
    "# TODO - create a tool for plotting quality historgrams\n",
    "\n",
    "def gen_hist_for_vals(vals):\n",
    "    n, bins, patches = plt.hist(x=vals, bins='auto', color='#0504aa',\n",
    "                            alpha=0.7, rwidth=0.85)\n",
    "    plt.grid(axis='y', alpha=0.75)\n",
    "    plt.xlabel('Value')\n",
    "    plt.ylabel('Frequency')\n",
    "    plt.title('Right_triangle')\n",
    "    plt.text(23, 45, r'$\\mu=15, b=3$')\n",
    "    maxfreq = n.max()\n",
    "    # Set a clean upper y-axis limit.\n",
    "    plt.ylim(ymax=np.ceil(maxfreq / 10) * 10 if maxfreq % 10 else maxfreq + 10)\n",
    "    plt.show()\n",
    "\n",
    "\n",
    "def plot_quality_histograms(vertices, tets):\n",
    "    vals_1 = []\n",
    "    vals_2 = []\n",
    "    vals_3 = []\n",
    "    vals_4 = []\n",
    "    \n",
    "    for elm in tets:\n",
    "        points = []\n",
    "        for vert in elm:\n",
    "            points.append(vertices[vert])\n",
    "        vals.append(compute_quality_1(points))\n",
    "   \n",
    "\n"
   ]
  },
  {
   "attachments": {},
   "cell_type": "markdown",
   "metadata": {
    "pycharm": {
     "name": "#%% md\n"
    }
   },
   "source": [
    "# Reading Surface Mesh from File\n",
    "\n",
    "We want to get some test geometry for making 3D tetrahedral meshes. We will use a popular computer graphics figure for our testing."
   ]
  },
  {
   "cell_type": "code",
   "execution_count": null,
   "metadata": {
    "pycharm": {
     "name": "#%%\n"
    }
   },
   "outputs": [
    {
     "ename": "NameError",
     "evalue": "name 'igl' is not defined",
     "output_type": "error",
     "traceback": [
      "\u001b[0;31m---------------------------------------------------------------------------\u001b[0m",
      "\u001b[0;31mNameError\u001b[0m                                 Traceback (most recent call last)",
      "\u001b[0;32m/tmp/ipykernel_126584/4064936435.py\u001b[0m in \u001b[0;36m<module>\u001b[0;34m\u001b[0m\n\u001b[0;32m----> 1\u001b[0;31m \u001b[0mv\u001b[0m\u001b[0;34m,\u001b[0m \u001b[0mf\u001b[0m \u001b[0;34m=\u001b[0m \u001b[0migl\u001b[0m\u001b[0;34m.\u001b[0m\u001b[0mread_triangle_mesh\u001b[0m\u001b[0;34m(\u001b[0m\u001b[0;34m\"armadillo.obj\"\u001b[0m\u001b[0;34m)\u001b[0m\u001b[0;34m\u001b[0m\u001b[0;34m\u001b[0m\u001b[0m\n\u001b[0m\u001b[1;32m      2\u001b[0m \u001b[0mmp\u001b[0m\u001b[0;34m.\u001b[0m\u001b[0mplot\u001b[0m\u001b[0;34m(\u001b[0m\u001b[0mv\u001b[0m\u001b[0;34m,\u001b[0m \u001b[0mf\u001b[0m\u001b[0;34m,\u001b[0m \u001b[0mv\u001b[0m\u001b[0;34m[\u001b[0m\u001b[0;34m:\u001b[0m\u001b[0;34m,\u001b[0m \u001b[0;36m0\u001b[0m\u001b[0;34m]\u001b[0m\u001b[0;34m)\u001b[0m\u001b[0;34m\u001b[0m\u001b[0;34m\u001b[0m\u001b[0m\n",
      "\u001b[0;31mNameError\u001b[0m: name 'igl' is not defined"
     ]
    }
   ],
   "source": [
    "v, f = igl.read_triangle_mesh(\"armadillo.obj\")\n",
    "mp.plot(v, f, v[:, 0])"
   ]
  },
  {
   "attachments": {},
   "cell_type": "markdown",
   "metadata": {
    "pycharm": {
     "name": "#%% md\n"
    }
   },
   "source": [
    "# Create Volumetric Tetrahedral Mesh from Surface Mesh\n",
    "\n",
    "We can now invoke a meshing routine to get a volume mesh and then visualize it."
   ]
  },
  {
   "cell_type": "code",
   "execution_count": null,
   "metadata": {
    "pycharm": {
     "name": "#%%\n"
    }
   },
   "outputs": [
    {
     "name": "stdout",
     "output_type": "stream",
     "text": [
      "TBB threads 12\n",
      "                 Loading file armadillo.obj...\n",
      "                 (FP64) nb_v:43243 nb_e:0 nb_f:86482 nb_b:0 tri:1 dim:3\n",
      "                 Attributes on vertices: point[3]\n",
      "bbox_diag_length = 1.51164\n",
      "ideal_edge_length = 0.0755821\n",
      "stage = 2\n",
      "eps_input = 0.00151164\n",
      "eps = 0.00083683\n",
      "eps_simplification = 0.000669464\n",
      "eps_coplanar = 1.51164e-06\n",
      "dd = 0.00100776\n",
      "dd_simplification = 0.000806209\n",
      "[2023-05-09 21:23:46.180] [float-tetwild] [info] remove duplicates: \n",
      "[2023-05-09 21:23:46.180] [float-tetwild] [info] #v: 43243 -> 43243\n",
      "[2023-05-09 21:23:46.180] [float-tetwild] [info] #f: 86482 -> 86482\n",
      "collapsing 2.929\n",
      "swapping 0.080494\n",
      "[2023-05-09 21:23:49.206] [float-tetwild] [info] remove duplicates: \n",
      "[2023-05-09 21:23:49.206] [float-tetwild] [info] #v: 17674 -> 17674\n",
      "[2023-05-09 21:23:49.206] [float-tetwild] [info] #f: 35344 -> 35344\n",
      "[2023-05-09 21:23:49.206] [float-tetwild] [info] #v = 17674\n",
      "[2023-05-09 21:23:49.206] [float-tetwild] [info] #f = 35342\n",
      "#boundary_e1 = 4\n",
      "#boundary_e2 = 2\n",
      "[2023-05-09 21:23:49.247] [float-tetwild] [info] preprocessing 3.08134s\n",
      "[2023-05-09 21:23:49.247] [float-tetwild] [info] \n",
      "[2023-05-09 21:23:49.342] [float-tetwild] [info] #v = 18851\n",
      "[2023-05-09 21:23:49.343] [float-tetwild] [info] #t = 116475\n",
      "[2023-05-09 21:23:49.343] [float-tetwild] [info] tetrahedralizing 0.095447s\n",
      "[2023-05-09 21:23:49.343] [float-tetwild] [info] \n",
      "[2023-05-09 21:23:49.344] [float-tetwild] [info] triangle insertion start, #f = 35342, #v = 18851, #t = 116475\n",
      "[2023-05-09 21:23:49.392] [float-tetwild] [info] matched #f = 29903, uninserted #f = 5439\n",
      "[2023-05-09 21:23:50.801] [float-tetwild] [info] insert_one_triangle * n done, #v = 34876, #t = 198855\n",
      "[2023-05-09 21:23:50.801] [float-tetwild] [info] uninserted #f = 0/5439\n",
      "[2023-05-09 21:23:50.801] [float-tetwild] [info] total timing: 0s\n",
      "[2023-05-09 21:23:50.898] [float-tetwild] [info] pair_track_surface_fs done\n",
      "#boundary_e1 = 4\n",
      "#boundary_e2 = 2\n",
      "[2023-05-09 21:23:50.914] [float-tetwild] [info] find_boundary_edges done\n",
      "[2023-05-09 21:23:50.924] [float-tetwild] [info] time1 = 0.010779\n",
      "[2023-05-09 21:23:50.925] [float-tetwild] [info] uninsert boundary #e = 0/6\n",
      "[2023-05-09 21:23:50.925] [float-tetwild] [info] time2 = 3e-06\n",
      "[2023-05-09 21:23:50.925] [float-tetwild] [info] time3 = 0.000128\n",
      "[2023-05-09 21:23:50.925] [float-tetwild] [info] time4 = 0\n",
      "[2023-05-09 21:23:50.925] [float-tetwild] [info] time5 = 0\n",
      "[2023-05-09 21:23:50.925] [float-tetwild] [info] time6 = 0\n",
      "[2023-05-09 21:23:50.926] [float-tetwild] [info] uninserted #f = 0/5439\n",
      "known_surface_fs.size = 0\n",
      "known_not_surface_fs.size = 0\n",
      "[2023-05-09 21:23:51.607] [float-tetwild] [info] mark_surface_fs done\n",
      "[2023-05-09 21:23:51.609] [float-tetwild] [info] #b_edge1 = 6, #b_edges2 = 0\n",
      "[2023-05-09 21:23:51.619] [float-tetwild] [info] cutting 2.27545s\n",
      "[2023-05-09 21:23:51.619] [float-tetwild] [info] \n",
      "initializing...\n",
      "edge collapsing...\n",
      "fixed 0 tangled element\n",
      "success(env) = 16160\n",
      "success = 18182(234153)\n",
      "success(env) = 568\n",
      "success = 615(178921)\n",
      "success(env) = 34\n",
      "success = 34(52131)\n",
      "success(env) = 8\n",
      "success = 8(4825)\n",
      "success(env) = 3\n",
      "success = 3(953)\n",
      "success(env) = 0\n",
      "success = 0(580)\n",
      "edge collapsing done!\n",
      "time = 3.62077s\n",
      "#v = 15863\n",
      "#t = 96693\n",
      "max_energy = 2019.83\n",
      "avg_energy = 13.6674\n",
      "//////////////// pass 0 ////////////////\n",
      "edge splitting...\n",
      "fixed 0 tangled element\n",
      "success = 11949(11949)\n",
      "edge splitting done!\n",
      "time = 0.129605s\n",
      "#v = 27812\n",
      "#t = 162664\n",
      "max_energy = 2019.83\n",
      "avg_energy = 12.3539\n",
      "edge collapsing...\n",
      "fixed 0 tangled element\n",
      "success(env) = 28\n",
      "success = 9453(222646)\n",
      "success(env) = 20\n",
      "success = 195(81571)\n",
      "success(env) = 6\n",
      "success = 14(14526)\n",
      "success(env) = 2\n",
      "success = 6(1575)\n",
      "success(env) = 0\n",
      "success = 1(1066)\n",
      "success(env) = 0\n",
      "success = 0(131)\n",
      "edge collapsing done!\n",
      "time = 1.83732s\n",
      "#v = 18143\n",
      "#t = 108901\n",
      "max_energy = 2019.83\n",
      "avg_energy = 11.7649\n",
      "edge swapping...\n",
      "fixed 0 tangled element\n",
      "success3 = 13275\n",
      "success4 = 15975\n",
      "success5 = 2904\n",
      "success = 32154(128716)\n",
      "edge swapping done!\n",
      "time = 1.05087s\n",
      "#v = 18143\n",
      "#t = 98530\n",
      "max_energy = 397.336\n",
      "avg_energy = 9.38845\n",
      "vertex smoothing...\n",
      "success = 6968(17012)\n",
      "vertex smoothing done!\n",
      "time = 0.257861s\n",
      "#v = 18143\n",
      "#t = 98530\n",
      "max_energy = 106.699\n",
      "avg_energy = 8.32897\n",
      "//////////////// postprocessing ////////////////\n",
      "edge collapsing...\n",
      "fixed 0 tangled element\n",
      "success(env) = 1032\n",
      "success = 1189(187457)\n",
      "success(env) = 65\n",
      "success = 75(95888)\n",
      "success(env) = 1\n",
      "success = 1(8842)\n",
      "success(env) = 0\n",
      "success = 0(134)\n",
      "edge collapsing done!\n",
      "time = 1.4438s\n",
      "#v = 16878\n",
      "#t = 91735\n",
      "max_energy = 85.8195\n",
      "avg_energy = 8.17441\n",
      "[2023-05-09 21:23:59.984] [float-tetwild] [info] mesh optimization 8.36185s\n",
      "[2023-05-09 21:23:59.984] [float-tetwild] [info] \n",
      "[2023-05-09 21:24:00.047] [float-tetwild] [info] correct_tracked_surface_orientation done\n",
      "[2023-05-09 21:24:00.195] [float-tetwild] [info] after winding number\n",
      "[2023-05-09 21:24:00.195] [float-tetwild] [info] #v = 13727\n",
      "[2023-05-09 21:24:00.195] [float-tetwild] [info] #t = 38304\n",
      "[2023-05-09 21:24:00.195] [float-tetwild] [info] winding number 1.68366e+09s\n",
      "[2023-05-09 21:24:00.195] [float-tetwild] [info] \n"
     ]
    },
    {
     "data": {
      "application/vnd.jupyter.widget-view+json": {
       "model_id": "89f7704e5bd147c1954ce475239aefa9",
       "version_major": 2,
       "version_minor": 0
      },
      "text/plain": [
       "Renderer(camera=PerspectiveCamera(children=(DirectionalLight(color='white', intensity=0.6, position=(-0.016224…"
      ]
     },
     "metadata": {},
     "output_type": "display_data"
    },
    {
     "data": {
      "text/plain": [
       "<meshplot.Viewer.Viewer at 0x7fa1647990d0>"
      ]
     },
     "execution_count": 26,
     "metadata": {},
     "output_type": "execute_result"
    }
   ],
   "source": [
    "tetra = wm.Tetrahedralizer(stop_quality=500)\n",
    "tetra.load_mesh(\"armadillo.obj\")\n",
    "tetra.tetrahedralize()\n",
    "V, T = tetra.get_tet_mesh()\n",
    "mp.plot(V, T)"
   ]
  },
  {
   "attachments": {},
   "cell_type": "markdown",
   "metadata": {
    "pycharm": {
     "name": "#%% md\n"
    }
   },
   "source": [
    "# Histograms of Quality Measures from 3D Volume Mesh\n",
    "\n",
    "We now have all pieces in place to make histograms. We can use the histograms to get an idea of the quality of the mesh we have created."
   ]
  },
  {
   "cell_type": "code",
   "execution_count": null,
   "metadata": {
    "pycharm": {
     "name": "#%%\n"
    }
   },
   "outputs": [
    {
     "data": {
      "application/vnd.jupyter.widget-view+json": {
       "model_id": "f3c5284bc39643f7a82005e328fc4413",
       "version_major": 2,
       "version_minor": 0
      },
      "image/png": "[encoded data removed]",
      "text/html": [
       "\n",
       "            <div style=\"display: inline-block;\">\n",
       "                <div class=\"jupyter-widgets widget-label\" style=\"text-align: center;\">\n",
       "                    Figure 1\n",
       "                </div>\n",
       "                <img src='data:image/png;base64,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' width=640.0/>\n",
       "            </div>\n",
       "        "
      ],
      "text/plain": [
       "Canvas(toolbar=Toolbar(toolitems=[('Home', 'Reset original view', 'home', 'home'), ('Back', 'Back to previous …"
      ]
     },
     "metadata": {},
     "output_type": "display_data"
    }
   ],
   "source": [
    "plot_quality_histograms(V, T)"
   ]
  },
  {
   "attachments": {},
   "cell_type": "markdown",
   "metadata": {
    "pycharm": {
     "name": "#%% md\n"
    }
   },
   "source": [
    "Just for fun we will play with a few more meshes to see how they behave"
   ]
  },
  {
   "cell_type": "code",
   "execution_count": null,
   "metadata": {
    "pycharm": {
     "name": "#%%\n"
    }
   },
   "outputs": [
    {
     "ename": "",
     "evalue": "",
     "output_type": "error",
     "traceback": [
      "\u001b[1;31mRunning cells with 'cmis' requires ipykernel package.\n",
      "\u001b[1;31mRun the following command to install 'ipykernel' into the Python environment. \n",
      "\u001b[1;31mCommand: 'conda install -n cmis ipykernel --update-deps --force-reinstall'"
     ]
    }
   ],
   "source": [
    "tetra = wm.Tetrahedralizer(stop_quality=500)\n",
    "tetra.load_mesh(\"left_brain.stl\")\n",
    "tetra.tetrahedralize()\n",
    "V, T = tetra.get_tet_mesh()\n",
    "mp.plot(V, T)\n",
    "plot_quality_histograms(V, T)"
   ]
  },
  {
   "cell_type": "code",
   "execution_count": null,
   "metadata": {
    "pycharm": {
     "name": "#%%\n"
    }
   },
   "outputs": [
    {
     "ename": "",
     "evalue": "",
     "output_type": "error",
     "traceback": [
      "\u001b[1;31mRunning cells with 'cmis' requires ipykernel package.\n",
      "\u001b[1;31mRun the following command to install 'ipykernel' into the Python environment. \n",
      "\u001b[1;31mCommand: 'conda install -n cmis ipykernel --update-deps --force-reinstall'"
     ]
    }
   ],
   "source": [
    "tetra = wm.Tetrahedralizer(stop_quality=500)\n",
    "tetra.load_mesh(\"right_brain.stl\")\n",
    "tetra.tetrahedralize()\n",
    "V, T = tetra.get_tet_mesh()\n",
    "mp.plot(V, T)\n",
    "plot_quality_histograms(V, T)"
   ]
  },
  {
   "attachments": {},
   "cell_type": "markdown",
   "metadata": {
    "pycharm": {
     "name": "#%% md\n"
    }
   },
   "source": [
    "# Marching Triangles"
   ]
  },
  {
   "attachments": {},
   "cell_type": "markdown",
   "metadata": {
    "pycharm": {
     "name": "#%% md\n"
    }
   },
   "source": [
    "We will reuse some of our code from week 2. Particular we need the function that can compute a signed distance field. This is because we want to apply the marching triangle method on a signed distance field."
   ]
  },
  {
   "cell_type": "code",
   "execution_count": null,
   "metadata": {
    "pycharm": {
     "name": "#%%\n"
    }
   },
   "outputs": [],
   "source": [
    "def vec2(x,y):\n",
    "    return np.array([x,y], dtype=np.float64)\n",
    "\n",
    "\n",
    "def compute_signed_distance(poly, q):\n",
    "    \n",
    "    def is_left(p0, p1, p2):\n",
    "        return (p1[0] - p0[0]) * (p2[1] - p0[1]) - (p2[0] - p0[0]) * (p1[1] - p0[1])\n",
    "\n",
    "    N = poly.shape[0]\n",
    "    d = np.inf\n",
    "\n",
    "    # Compute distance to closest surface point\n",
    "    for i in range(N-1):\n",
    "        a = poly[i, :]    # Point on the surface of polygon p\n",
    "        b = poly[i+1, :]  # Adjacent point on the surface of polygon p\n",
    "        \n",
    "        ba = b - a     # Vector from a to b\n",
    "        bal = np.linalg.norm(ba) # Length of ba vector\n",
    "        if bal == 0:\n",
    "            continue\n",
    "        ban = ba / bal # Normal of the vector from a to b\n",
    "        qa = q - a     # The vector from the query point to a\n",
    "        alpha = np.dot(qa, ban) / bal\n",
    "        if alpha < 0:\n",
    "            da = np.linalg.norm(q-a)\n",
    "            if da < d:\n",
    "                d = da\n",
    "        elif alpha > 1:\n",
    "            db = np.linalg.norm(q-b)\n",
    "            if db < d:\n",
    "                d = db\n",
    "        else:\n",
    "            banp = np.array([-ban[1], ban[0]])\n",
    "            dp = abs(np.dot(qa, banp))\n",
    "            if dp < d:\n",
    "                d = dp\n",
    "    # Compute winding number to set the sign\n",
    "    wn = 0\n",
    "    for i in range(N-1):\n",
    "        a = poly[i, :]    # Point on the surface of polygon p\n",
    "        b = poly[i+1, :]  # Adjacent point on the surface of polygon p\n",
    "        if a[1] <= q[1]:\n",
    "            if b[1] > q[1]:\n",
    "                if is_left(a, b, q) > 0:\n",
    "                    wn = wn + 1\n",
    "        else:\n",
    "            if b[1] <= q[1]:\n",
    "                if is_left(a, b, q) < 0:\n",
    "                    wn = wn -1\n",
    "    if wn < -0.5:\n",
    "        d = -d\n",
    "    elif wn > 0.5:\n",
    "        d = -d\n",
    "    return d"
   ]
  },
  {
   "attachments": {},
   "cell_type": "markdown",
   "metadata": {
    "pycharm": {
     "name": "#%% md\n"
    }
   },
   "source": [
    "The marching triangles method creates a regular background grid and then evaluates the signed distance field value at all grid points. Hereafer each cell is visited iteratively. The cell is cut into two triangles and each triangle is investigated. The triangle vertex order are shuffled such that all interior vertices comes first. \n",
    "\n",
    "We may now analyse the triangle case by assigning a case number to the triangle from a binary mask created from its inside-outside pattern of the vertices. The case number identifies a stencil for how to \"cut\" the triangle and generate triangles that covers the interior of the distance field."
   ]
  },
  {
   "cell_type": "code",
   "execution_count": null,
   "metadata": {
    "pycharm": {
     "name": "#%%\n"
    }
   },
   "outputs": [
    {
     "name": "stdout",
     "output_type": "stream",
     "text": [
      "10000\n"
     ]
    }
   ],
   "source": [
    "import sys\n",
    "print(sys.getrecursionlimit())\n",
    "sys.setrecursionlimit(10000)\n",
    "\n",
    "def rootSearch(poly, p1, p2, epsilon):\n",
    "    \n",
    "    start = (p2+p1)/2\n",
    "\n",
    "\n",
    "    \n",
    "    \n",
    "    distance = compute_signed_distance(poly, start)\n",
    "    if abs(distance) < epsilon:\n",
    "        \n",
    "        return start\n",
    "    if distance > 0 :\n",
    "        return rootSearch(poly,p2, start, epsilon)\n",
    "    if distance < 0 :\n",
    "        return rootSearch(poly, start, p1, epsilon)\n",
    "\n",
    "\n",
    "\n",
    "\n",
    "\n",
    "def marching_triangles(poly, I, J):\n",
    "\n",
    "    min_coord = vec2(-2,-2)\n",
    "    max_coord = vec2(2,2)\n",
    "    I = I  # Number of nodes along x axis\n",
    "    J = J  # Number of nodes along y axis\n",
    "    \n",
    "    res = np.array([I-1, J-1], dtype=np.float64)\n",
    "    dims = (max_coord - min_coord)\n",
    "    spacing = np.divide( dims, res)\n",
    "    \n",
    "    dx = spacing[0]\n",
    "    dy = spacing[1]\n",
    "    x = np.linspace(min_coord[0], max_coord[0], I)\n",
    "    y = np.linspace(min_coord[1], max_coord[1], J)\n",
    "\n",
    "    X, Y = np.meshgrid(x, y)\n",
    "    \n",
    "    v = []\n",
    "    triangles = []\n",
    "\n",
    "\n",
    "    for i in range(len(x)):\n",
    "        for j in range(len(y)):\n",
    "            v.append(vec2(x[i],y[j]))\n",
    "           \n",
    "\n",
    "\n",
    "    \n",
    "   \n",
    "    \n",
    "    for i in range(len(x)-1):\n",
    "        for j in range(len(y)-1):\n",
    "            flip = ((i%2) +(j%2))%2\n",
    "            \n",
    "            v1 = I*(j) + i\n",
    "            v2 = I*(j) + i + 1\n",
    "            v3 = I*(j+1) + i\n",
    "            v4 = I*(j+1) + i + 1\n",
    "            if(flip):\n",
    "                t_1 = [v1,v2,v4]\n",
    "                t_2 = [v1,v4,v3]\n",
    "            else:\n",
    "                t_1 = [v3,v1,v2]\n",
    "                t_2 = [v3,v2,v4]\n",
    "            triangles.append(t_1)\n",
    "            triangles.append(t_2)\n",
    "\n",
    "    \n",
    "\n",
    "    f = []\n",
    "    draw = []\n",
    "    for elm in triangles:\n",
    "        points = [compute_signed_distance(poly, v[p]) for p in elm]\n",
    "    \n",
    "        points_tmp = np.array(points)\n",
    "\n",
    "        \n",
    "        points = [0 if vertex > 0 else 1 for vertex in points_tmp]\n",
    "        #rint(points)\n",
    "\n",
    "\n",
    "        stencil = (points[0] *1) + (points[1] *2) + (points[2] * 4)\n",
    "        \n",
    "        apply_rule = 0\n",
    "        if(stencil == 0):\n",
    "            apply_rule = 0\n",
    "        if(stencil == 1):\n",
    "            apply_rule = 1\n",
    "        if(stencil == 2):\n",
    "            apply_rule = 1\n",
    "            draw = [elm[1], elm[2], elm[0]]\n",
    "        if(stencil == 3):\n",
    "            apply_rule = 2\n",
    "        if(stencil == 4):\n",
    "            apply_rule = 1\n",
    "            draw = [elm[2], elm[0], elm[1]]\n",
    "        if(stencil == 5):\n",
    "            apply_rule = 2\n",
    "            draw = [elm[2], elm[0], elm[1]]\n",
    "        if(stencil == 6):\n",
    "            draw = [elm[1], elm[2], elm[0]]\n",
    "        if(stencil == 7):\n",
    "            apply_rule = 3\n",
    "\n",
    "        if (apply_rule == 1) or (apply_rule == 2):\n",
    "            pointstt = np.array([compute_signed_distance(poly, v[p]) for p in draw])\n",
    "            print([0 if vertex > 0 else 1 for vertex in pointstt])\n",
    "            print('rule', apply_rule)\n",
    "        \n",
    "\n",
    "\n",
    "        if apply_rule == 3:\n",
    "\n",
    "            f.append(elm)\n",
    "\n",
    "       \n",
    "        if apply_rule == 2:\n",
    "            cut_1 = rootSearch(poly, v[draw[0]], v[draw[2]], 10e-2)\n",
    "            cut_2 = rootSearch(poly, v[draw[1]], v[draw[2]], 10e-2)\n",
    "\n",
    "            coord_a = cut_2\n",
    "            coord_b = cut_1\n",
    "            \n",
    "            index_a = len(v)\n",
    "            index_b = len(v)+1\n",
    "            f.append([draw[0],draw[1], index_b])\n",
    "            f.append([draw[1], index_a, index_b])\n",
    "            v.append(coord_a)\n",
    "            v.append(coord_b)\n",
    "#\n",
    "        #if apply_rule == 1\n",
    "\n",
    "            \n",
    "        \n",
    "        \n",
    "\n",
    "    \n",
    "\n",
    "\n",
    "\n",
    "    #Use grid with (2,2) and (0,0) as top right and bottom left corners\n",
    "    #Generate signed distance field from polygon\n",
    "\n",
    "    #TODO - implement the marching triangles method (as described in Slides 6) \n",
    "    \n",
    "    return np.array(v), f"
   ]
  },
  {
   "attachments": {},
   "cell_type": "markdown",
   "metadata": {
    "pycharm": {
     "name": "#%% md\n"
    }
   },
   "source": [
    "We may now apply the marching triangle to a test problem"
   ]
  },
  {
   "cell_type": "code",
   "execution_count": null,
   "metadata": {
    "pycharm": {
     "name": "#%%\n"
    }
   },
   "outputs": [
    {
     "name": "stdout",
     "output_type": "stream",
     "text": [
      "[1, 0, 0]\n",
      "rule 1\n",
      "[1, 0, 0]\n",
      "rule 1\n",
      "[1, 0, 0]\n",
      "rule 1\n",
      "[1, 0, 0]\n",
      "rule 1\n",
      "[1, 0, 0]\n",
      "rule 1\n",
      "[1, 0, 0]\n",
      "rule 1\n",
      "[1, 0, 0]\n",
      "rule 1\n",
      "[1, 0, 0]\n",
      "rule 1\n",
      "[1, 0, 0]\n",
      "rule 1\n",
      "[1, 1, 0]\n",
      "rule 2\n",
      "[1, 1, 0]\n",
      "rule 1\n",
      "[1, 1, 0]\n",
      "rule 1\n",
      "[1, 1, 0]\n",
      "rule 2\n"
     ]
    },
    {
     "ename": "RecursionError",
     "evalue": "maximum recursion depth exceeded in __subclasscheck__",
     "output_type": "error",
     "traceback": [
      "\u001b[0;31m---------------------------------------------------------------------------\u001b[0m",
      "\u001b[0;31mRecursionError\u001b[0m                            Traceback (most recent call last)",
      "Cell \u001b[0;32mIn[19], line 12\u001b[0m\n\u001b[1;32m      9\u001b[0m poly[\u001b[39m7\u001b[39m,:] \u001b[39m=\u001b[39m vec2(\u001b[39m-\u001b[39m\u001b[39m1\u001b[39m, \u001b[39m1\u001b[39m)\n\u001b[1;32m     10\u001b[0m poly[\u001b[39m8\u001b[39m,:] \u001b[39m=\u001b[39m vec2(\u001b[39m-\u001b[39m\u001b[39m1\u001b[39m,\u001b[39m-\u001b[39m\u001b[39m1\u001b[39m)\n\u001b[0;32m---> 12\u001b[0m v, f \u001b[39m=\u001b[39m marching_triangles(poly, \u001b[39m15\u001b[39;49m, \u001b[39m15\u001b[39;49m)\n\u001b[1;32m     14\u001b[0m fig \u001b[39m=\u001b[39m plt\u001b[39m.\u001b[39mfigure()\n\u001b[1;32m     18\u001b[0m plt\u001b[39m.\u001b[39mplot(poly[:,\u001b[39m0\u001b[39m],poly[:,\u001b[39m1\u001b[39m])\n",
      "Cell \u001b[0;32mIn[18], line 123\u001b[0m, in \u001b[0;36mmarching_triangles\u001b[0;34m(poly, I, J)\u001b[0m\n\u001b[1;32m    119\u001b[0m     f\u001b[39m.\u001b[39mappend(elm)\n\u001b[1;32m    122\u001b[0m \u001b[39mif\u001b[39;00m apply_rule \u001b[39m==\u001b[39m \u001b[39m2\u001b[39m:\n\u001b[0;32m--> 123\u001b[0m     cut_1 \u001b[39m=\u001b[39m rootSearch(poly, v[draw[\u001b[39m0\u001b[39;49m]], v[draw[\u001b[39m2\u001b[39;49m]], \u001b[39m10e-3\u001b[39;49m)\n\u001b[1;32m    124\u001b[0m     cut_2 \u001b[39m=\u001b[39m rootSearch(poly, v[draw[\u001b[39m1\u001b[39m]], v[draw[\u001b[39m2\u001b[39m]], \u001b[39m10e-3\u001b[39m)\n\u001b[1;32m    126\u001b[0m     coord_a \u001b[39m=\u001b[39m cut_2\n",
      "Cell \u001b[0;32mIn[18], line 17\u001b[0m, in \u001b[0;36mrootSearch\u001b[0;34m(poly, p1, p2, epsilon)\u001b[0m\n\u001b[1;32m     15\u001b[0m     \u001b[39mreturn\u001b[39;00m start\n\u001b[1;32m     16\u001b[0m \u001b[39mif\u001b[39;00m distance \u001b[39m>\u001b[39m \u001b[39m0\u001b[39m :\n\u001b[0;32m---> 17\u001b[0m     \u001b[39mreturn\u001b[39;00m rootSearch(poly,p2, start, epsilon)\n\u001b[1;32m     18\u001b[0m \u001b[39mif\u001b[39;00m distance \u001b[39m<\u001b[39m \u001b[39m0\u001b[39m :\n\u001b[1;32m     19\u001b[0m     \u001b[39mreturn\u001b[39;00m rootSearch(poly, start, p1, epsilon)\n",
      "Cell \u001b[0;32mIn[18], line 17\u001b[0m, in \u001b[0;36mrootSearch\u001b[0;34m(poly, p1, p2, epsilon)\u001b[0m\n\u001b[1;32m     15\u001b[0m     \u001b[39mreturn\u001b[39;00m start\n\u001b[1;32m     16\u001b[0m \u001b[39mif\u001b[39;00m distance \u001b[39m>\u001b[39m \u001b[39m0\u001b[39m :\n\u001b[0;32m---> 17\u001b[0m     \u001b[39mreturn\u001b[39;00m rootSearch(poly,p2, start, epsilon)\n\u001b[1;32m     18\u001b[0m \u001b[39mif\u001b[39;00m distance \u001b[39m<\u001b[39m \u001b[39m0\u001b[39m :\n\u001b[1;32m     19\u001b[0m     \u001b[39mreturn\u001b[39;00m rootSearch(poly, start, p1, epsilon)\n",
      "    \u001b[0;31m[... skipping similar frames: rootSearch at line 17 (9963 times)]\u001b[0m\n",
      "Cell \u001b[0;32mIn[18], line 17\u001b[0m, in \u001b[0;36mrootSearch\u001b[0;34m(poly, p1, p2, epsilon)\u001b[0m\n\u001b[1;32m     15\u001b[0m     \u001b[39mreturn\u001b[39;00m start\n\u001b[1;32m     16\u001b[0m \u001b[39mif\u001b[39;00m distance \u001b[39m>\u001b[39m \u001b[39m0\u001b[39m :\n\u001b[0;32m---> 17\u001b[0m     \u001b[39mreturn\u001b[39;00m rootSearch(poly,p2, start, epsilon)\n\u001b[1;32m     18\u001b[0m \u001b[39mif\u001b[39;00m distance \u001b[39m<\u001b[39m \u001b[39m0\u001b[39m :\n\u001b[1;32m     19\u001b[0m     \u001b[39mreturn\u001b[39;00m rootSearch(poly, start, p1, epsilon)\n",
      "Cell \u001b[0;32mIn[18], line 12\u001b[0m, in \u001b[0;36mrootSearch\u001b[0;34m(poly, p1, p2, epsilon)\u001b[0m\n\u001b[1;32m      5\u001b[0m \u001b[39mdef\u001b[39;00m \u001b[39mrootSearch\u001b[39m(poly, p1, p2, epsilon):\n\u001b[1;32m      7\u001b[0m     start \u001b[39m=\u001b[39m (p2\u001b[39m+\u001b[39mp1)\u001b[39m/\u001b[39m\u001b[39m2\u001b[39m\n\u001b[0;32m---> 12\u001b[0m     distance \u001b[39m=\u001b[39m compute_signed_distance(poly, start)\n\u001b[1;32m     13\u001b[0m     \u001b[39mif\u001b[39;00m \u001b[39mabs\u001b[39m(distance) \u001b[39m<\u001b[39m epsilon:\n\u001b[1;32m     15\u001b[0m         \u001b[39mreturn\u001b[39;00m start\n",
      "Cell \u001b[0;32mIn[2], line 19\u001b[0m, in \u001b[0;36mcompute_signed_distance\u001b[0;34m(poly, q)\u001b[0m\n\u001b[1;32m     16\u001b[0m b \u001b[39m=\u001b[39m poly[i\u001b[39m+\u001b[39m\u001b[39m1\u001b[39m, :]  \u001b[39m# Adjacent point on the surface of polygon p\u001b[39;00m\n\u001b[1;32m     18\u001b[0m ba \u001b[39m=\u001b[39m b \u001b[39m-\u001b[39m a     \u001b[39m# Vector from a to b\u001b[39;00m\n\u001b[0;32m---> 19\u001b[0m bal \u001b[39m=\u001b[39m np\u001b[39m.\u001b[39;49mlinalg\u001b[39m.\u001b[39;49mnorm(ba) \u001b[39m# Length of ba vector\u001b[39;00m\n\u001b[1;32m     20\u001b[0m \u001b[39mif\u001b[39;00m bal \u001b[39m==\u001b[39m \u001b[39m0\u001b[39m:\n\u001b[1;32m     21\u001b[0m     \u001b[39mcontinue\u001b[39;00m\n",
      "File \u001b[0;32m<__array_function__ internals>:180\u001b[0m, in \u001b[0;36mnorm\u001b[0;34m(*args, **kwargs)\u001b[0m\n",
      "File \u001b[0;32m/opt/homebrew/lib/python3.10/site-packages/numpy/linalg/linalg.py:2510\u001b[0m, in \u001b[0;36mnorm\u001b[0;34m(x, ord, axis, keepdims)\u001b[0m\n\u001b[1;32m   2359\u001b[0m \u001b[39m\u001b[39m\u001b[39m\"\"\"\u001b[39;00m\n\u001b[1;32m   2360\u001b[0m \u001b[39mMatrix or vector norm.\u001b[39;00m\n\u001b[1;32m   2361\u001b[0m \n\u001b[0;32m   (...)\u001b[0m\n\u001b[1;32m   2506\u001b[0m \n\u001b[1;32m   2507\u001b[0m \u001b[39m\"\"\"\u001b[39;00m\n\u001b[1;32m   2508\u001b[0m x \u001b[39m=\u001b[39m asarray(x)\n\u001b[0;32m-> 2510\u001b[0m \u001b[39mif\u001b[39;00m \u001b[39mnot\u001b[39;00m \u001b[39missubclass\u001b[39;49m(x\u001b[39m.\u001b[39;49mdtype\u001b[39m.\u001b[39;49mtype, (inexact, object_)):\n\u001b[1;32m   2511\u001b[0m     x \u001b[39m=\u001b[39m x\u001b[39m.\u001b[39mastype(\u001b[39mfloat\u001b[39m)\n\u001b[1;32m   2513\u001b[0m \u001b[39m# Immediately handle some default, simple, fast, and common cases.\u001b[39;00m\n",
      "\u001b[0;31mRecursionError\u001b[0m: maximum recursion depth exceeded in __subclasscheck__"
     ]
    }
   ],
   "source": [
    "poly = np.zeros((9,2),dtype=np.float64)\n",
    "poly[0,:] = vec2(-1,-1)\n",
    "poly[1,:] = vec2(-0.5,-1)\n",
    "poly[2,:] = vec2(-0.5,0.5)\n",
    "poly[3,:] = vec2(0.5,0.5)\n",
    "poly[4,:] = vec2(0.5,-1)\n",
    "poly[5,:] = vec2( 1,-1)\n",
    "poly[6,:] = vec2( 1, 1)\n",
    "poly[7,:] = vec2(-1, 1)\n",
    "poly[8,:] = vec2(-1,-1)\n",
    "\n",
    "v, f = marching_triangles(poly, 15, 15)\n",
    "\n",
    "fig = plt.figure()\n",
    "\n",
    "\n",
    "\n",
    "plt.plot(poly[:,0],poly[:,1])\n",
    "plt.triplot(v[:,0], v[:,1], f)\n",
    "plt.show()"
   ]
  },
  {
   "cell_type": "code",
   "execution_count": null,
   "metadata": {},
   "outputs": [],
   "source": []
  },
  {
   "attachments": {},
   "cell_type": "markdown",
   "metadata": {
    "pycharm": {
     "name": "#%% md\n"
    }
   },
   "source": [
    "We may observe several issues with the current implementation. Particular at corners we can see sampling side effects. The method can be fooled to believe the whole area of a triangle is part of the inside if all vertices are inside. Likewise it can be fooled to think a triangle is completely outside if none of the vertices are interior. For instance the in the case of the polygon overlapping only one edge of the triangle.\n",
    "\n",
    "Besides these sampling artefacts we may also note that the current implementation generates redundant vertices. When a triangle is cut by the zero-level set then the intersection points that is computed are not re-used when dealing with neighboring triangles that share the same intersection points."
   ]
  },
  {
   "attachments": {},
   "cell_type": "markdown",
   "metadata": {
    "pycharm": {
     "name": "#%% md\n"
    }
   },
   "source": [
    "That is it folks!"
   ]
  }
 ],
 "metadata": {
  "kernelspec": {
   "display_name": "cmis",
   "language": "python",
   "name": "python3"
  },
  "language_info": {
   "codemirror_mode": {
    "name": "ipython",
    "version": 3
   },
   "file_extension": ".py",
   "mimetype": "text/x-python",
   "name": "python",
   "nbconvert_exporter": "python",
   "pygments_lexer": "ipython3",
   "version": "3.7.12 | packaged by conda-forge | (default, Oct 26 2021, 06:08:53) \n[GCC 9.4.0]"
  },
  "vscode": {
   "interpreter": {
    "hash": "03a17cc0e23cc1599f6c7a48b9b0a737a1a4f81a22767616fea34156c2bc88a2"
   }
  }
 },
 "nbformat": 4,
 "nbformat_minor": 2
}
